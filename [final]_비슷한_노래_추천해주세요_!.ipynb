{
  "nbformat": 4,
  "nbformat_minor": 0,
  "metadata": {
    "colab": {
      "name": "[final] 비슷한 노래 추천해주세요 !.ipynb",
      "provenance": [],
      "collapsed_sections": [],
      "machine_shape": "hm"
    },
    "kernelspec": {
      "name": "python3",
      "display_name": "Python 3"
    }
  },
  "cells": [
    {
      "cell_type": "markdown",
      "metadata": {
        "id": "nRQf6b9IoUav"
      },
      "source": [
        "# 🍈 **요새 꽂힌 그 노래와 유사한 곡이 궁금해!** 🎶\n",
        "* 유사곡을 찾고 싶은 노래의 제목을 입력하세요.\n",
        "* 추천곡의 멜론 링크를 제공합니다 !"
      ]
    },
    {
      "cell_type": "markdown",
      "metadata": {
        "id": "lfWAgmFIVPJX"
      },
      "source": [
        "### 📂 **추천에 필요한 파일 가져오기**"
      ]
    },
    {
      "cell_type": "code",
      "metadata": {
        "id": "qpT1-DQAScO4"
      },
      "source": [
        "import pickle\n",
        "import pandas as pd\n",
        "import re\n",
        "import random\n",
        "from urllib import parse"
      ],
      "execution_count": null,
      "outputs": []
    },
    {
      "cell_type": "code",
      "metadata": {
        "id": "My1m4wytva_R"
      },
      "source": [
        "# 유사곡이 저장된 dictionary 불러오기\n",
        "\n",
        "song_meta = pd.read_pickle('/content/drive/My Drive/Melon-PL-Continuation/0802/train_split/song_meta_nov.pkl')\n",
        "\n",
        "with open('/content/drive/My Drive/Melon-PL-Continuation/0802/train_split/nov/sim_songs_epoch30_cos_dict.pkl', 'rb') as f: # sid로 바뀌어있음 !\n",
        "      sim_songs = pickle.load(f)"
      ],
      "execution_count": null,
      "outputs": []
    },
    {
      "cell_type": "code",
      "metadata": {
        "id": "9m68U2l6DKMC",
        "outputId": "a4d45455-181c-4bac-8a37-2004a75c3287",
        "colab": {
          "base_uri": "https://localhost:8080/"
        }
      },
      "source": [
        "song_meta = song_meta.loc[list(sim_songs.keys())]\n",
        "song_meta_subset = song_meta[['album_name','song_name','artist_name_basket']]\n",
        "song_meta_subset.rename(columns = {'album_name':'앨범 제목은 !','song_name':'노래 제목은 !','artist_name_basket':'가수는 누구인가 !'}, inplace = True)\n",
        "sid_to_meta = song_meta.set_index('id')[['album_name','song_name','artist_name_basket']].T.to_dict()"
      ],
      "execution_count": 219,
      "outputs": [
        {
          "output_type": "stream",
          "text": [
            "/usr/local/lib/python3.6/dist-packages/pandas/core/frame.py:4308: SettingWithCopyWarning: \n",
            "A value is trying to be set on a copy of a slice from a DataFrame\n",
            "\n",
            "See the caveats in the documentation: https://pandas.pydata.org/pandas-docs/stable/user_guide/indexing.html#returning-a-view-versus-a-copy\n",
            "  errors=errors,\n"
          ],
          "name": "stderr"
        }
      ]
    },
    {
      "cell_type": "markdown",
      "metadata": {
        "id": "_IMRKcA1Tfta"
      },
      "source": [
        "# 👩‍💻 **Trie와 RecSongs class를 정의합니다.**"
      ]
    },
    {
      "cell_type": "markdown",
      "metadata": {
        "id": "wVXUAt5tSmFJ"
      },
      "source": [
        "## 🌳 **1. 빠른 노래 제목 검색을 위한 DB를 구성합니다.**\n",
        "* Trie를 통해 빠른 탐색을 합니다.\n",
        "* 제목이 같은 노래가 있다면 list에 담아 return합니다."
      ]
    },
    {
      "cell_type": "code",
      "metadata": {
        "id": "EsE8kNU5yrcL"
      },
      "source": [
        "class Node:\n",
        "    def __init__(self, value):\n",
        "        self.value = value\n",
        "        self.children = {}\n",
        "        self.sid = [] # terminal flag 대신 sid의 유무로 판단\n",
        "\n",
        "class Trie:\n",
        "    def __init__(self, sid_list, song_list):\n",
        "        self.head = Node(None)\n",
        "\n",
        "        print(\"********* DB 구성중입니다 *********\")\n",
        "        for sid, title in zip(sid_list, song_list):\n",
        "            self.insert(sid, title)\n",
        "        print(\"************ 입력 완료 ************\")\n",
        "        \n",
        "    def get_plain(self, query):\n",
        "        plain = re.findall('\\w', query.split(\"(\")[0])\n",
        "\n",
        "        if plain is None:\n",
        "            return None\n",
        "        \n",
        "        return \"\".join(plain).lower()\n",
        "\n",
        "    def insert(self, sid, query):\n",
        "        plain_query = self.get_plain(query)\n",
        "\n",
        "        if plain_query is None:\n",
        "            self.head.children[query] = Node(query)\n",
        "            self.head.children[query].sid.append(sid)\n",
        "            return\n",
        "\n",
        "        curr_node = self.head\n",
        "\n",
        "        for q in plain_query:\n",
        "            if curr_node.children.get(q) is None:\n",
        "                curr_node.children[q] = Node(q)\n",
        "            curr_node = curr_node.children[q]\n",
        "        curr_node.sid.append(sid)\n",
        "\n",
        "    def search(self, query):\n",
        "        plain_query = self.get_plain(query)\n",
        "\n",
        "        if plain_query is None:\n",
        "            candidate = self.head.children.get(query)\n",
        "            return candidate.sid if candidate is not None else False\n",
        "\n",
        "        curr_node = self.head\n",
        "\n",
        "        for q in plain_query:\n",
        "            curr_node = curr_node.children.get(q)\n",
        "            if curr_node is None:\n",
        "                return False\n",
        "        \n",
        "        if len(curr_node.sid) == 0:\n",
        "            return False\n",
        "\n",
        "        return curr_node.sid"
      ],
      "execution_count": 275,
      "outputs": []
    },
    {
      "cell_type": "code",
      "metadata": {
        "id": "KnQ-B79Jy4LE",
        "outputId": "98ef02f1-b0fe-4cb2-f878-692bdcae6a35",
        "colab": {
          "base_uri": "https://localhost:8080/"
        }
      },
      "source": [
        "trie = Trie(song_meta.id, song_meta.song_name)"
      ],
      "execution_count": 276,
      "outputs": [
        {
          "output_type": "stream",
          "text": [
            "********* DB 구성중입니다 *********\n",
            "************ 입력 완료 ************\n"
          ],
          "name": "stdout"
        }
      ]
    },
    {
      "cell_type": "code",
      "metadata": {
        "id": "g35qaeGP3SMj",
        "outputId": "5210bad6-d0ab-40d2-88a4-b85214165395",
        "colab": {
          "base_uri": "https://localhost:8080/",
          "height": 92
        }
      },
      "source": [
        "song_meta.query(f'id in {trie.search(\"금요일에만나요\")}')"
      ],
      "execution_count": 277,
      "outputs": [
        {
          "output_type": "execute_result",
          "data": {
            "text/html": [
              "<div>\n",
              "<style scoped>\n",
              "    .dataframe tbody tr th:only-of-type {\n",
              "        vertical-align: middle;\n",
              "    }\n",
              "\n",
              "    .dataframe tbody tr th {\n",
              "        vertical-align: top;\n",
              "    }\n",
              "\n",
              "    .dataframe thead th {\n",
              "        text-align: right;\n",
              "    }\n",
              "</style>\n",
              "<table border=\"1\" class=\"dataframe\">\n",
              "  <thead>\n",
              "    <tr style=\"text-align: right;\">\n",
              "      <th></th>\n",
              "      <th>song_gn_dtl_gnr_basket</th>\n",
              "      <th>issue_date</th>\n",
              "      <th>album_name</th>\n",
              "      <th>album_id</th>\n",
              "      <th>artist_id_basket</th>\n",
              "      <th>song_name</th>\n",
              "      <th>song_gn_gnr_basket</th>\n",
              "      <th>artist_name_basket</th>\n",
              "      <th>id</th>\n",
              "      <th>new_tags</th>\n",
              "    </tr>\n",
              "  </thead>\n",
              "  <tbody>\n",
              "    <tr>\n",
              "      <th>549178</th>\n",
              "      <td>[GN0105, GN0101]</td>\n",
              "      <td>20131220</td>\n",
              "      <td>Modern Times - Epilogue</td>\n",
              "      <td>2222587</td>\n",
              "      <td>[261143]</td>\n",
              "      <td>금요일에 만나요 (Feat. 장이정 Of HISTORY)</td>\n",
              "      <td>[GN0100]</td>\n",
              "      <td>[아이유]</td>\n",
              "      <td>549178</td>\n",
              "      <td>[겨울, 출근길, 월요일, 월요병, 지하철, 드라이브, 스트레스, 버스, 기분전환,...</td>\n",
              "    </tr>\n",
              "  </tbody>\n",
              "</table>\n",
              "</div>"
            ],
            "text/plain": [
              "       song_gn_dtl_gnr_basket  ...                                           new_tags\n",
              "549178       [GN0105, GN0101]  ...  [겨울, 출근길, 월요일, 월요병, 지하철, 드라이브, 스트레스, 버스, 기분전환,...\n",
              "\n",
              "[1 rows x 10 columns]"
            ]
          },
          "metadata": {
            "tags": []
          },
          "execution_count": 277
        }
      ]
    },
    {
      "cell_type": "code",
      "metadata": {
        "id": "TnijLY4c5MdP",
        "outputId": "ae2df18a-8370-4980-c3f5-ff9e70c3b773",
        "colab": {
          "base_uri": "https://localhost:8080/",
          "height": 104
        }
      },
      "source": [
        "song_meta.query(f'id in {trie.search(\"봄~사랑~벚꽃 말고 ~\")}')"
      ],
      "execution_count": 278,
      "outputs": [
        {
          "output_type": "execute_result",
          "data": {
            "text/html": [
              "<div>\n",
              "<style scoped>\n",
              "    .dataframe tbody tr th:only-of-type {\n",
              "        vertical-align: middle;\n",
              "    }\n",
              "\n",
              "    .dataframe tbody tr th {\n",
              "        vertical-align: top;\n",
              "    }\n",
              "\n",
              "    .dataframe thead th {\n",
              "        text-align: right;\n",
              "    }\n",
              "</style>\n",
              "<table border=\"1\" class=\"dataframe\">\n",
              "  <thead>\n",
              "    <tr style=\"text-align: right;\">\n",
              "      <th></th>\n",
              "      <th>song_gn_dtl_gnr_basket</th>\n",
              "      <th>issue_date</th>\n",
              "      <th>album_name</th>\n",
              "      <th>album_id</th>\n",
              "      <th>artist_id_basket</th>\n",
              "      <th>song_name</th>\n",
              "      <th>song_gn_gnr_basket</th>\n",
              "      <th>artist_name_basket</th>\n",
              "      <th>id</th>\n",
              "      <th>new_tags</th>\n",
              "    </tr>\n",
              "  </thead>\n",
              "  <tbody>\n",
              "    <tr>\n",
              "      <th>650494</th>\n",
              "      <td>[GN0105, GN0101]</td>\n",
              "      <td>20140408</td>\n",
              "      <td>봄 사랑 벚꽃 말고</td>\n",
              "      <td>2248659</td>\n",
              "      <td>[767374, 261143]</td>\n",
              "      <td>봄 사랑 벚꽃 말고</td>\n",
              "      <td>[GN0100]</td>\n",
              "      <td>[HIGH4 (하이포), 아이유]</td>\n",
              "      <td>650494</td>\n",
              "      <td>[매장, 여름, 카페, 봄, 휴식, 힐링, 잔잔한, 팝, 설렘, 사랑, 힙합, 기분...</td>\n",
              "    </tr>\n",
              "    <tr>\n",
              "      <th>18039</th>\n",
              "      <td>[GN0101]</td>\n",
              "      <td>20140408</td>\n",
              "      <td>봄 사랑 벚꽃 말고</td>\n",
              "      <td>2248659</td>\n",
              "      <td>[767374, 261143]</td>\n",
              "      <td>봄 사랑 벚꽃 말고 (Inst.)</td>\n",
              "      <td>[GN0100]</td>\n",
              "      <td>[HIGH4 (하이포), 아이유]</td>\n",
              "      <td>18039</td>\n",
              "      <td>[설렘, 사랑, 힐링, 휴식, 기분전환, 힙합, 랩, 까페, 잔잔한, 아이유, 그루...</td>\n",
              "    </tr>\n",
              "  </tbody>\n",
              "</table>\n",
              "</div>"
            ],
            "text/plain": [
              "       song_gn_dtl_gnr_basket  ...                                           new_tags\n",
              "650494       [GN0105, GN0101]  ...  [매장, 여름, 카페, 봄, 휴식, 힐링, 잔잔한, 팝, 설렘, 사랑, 힙합, 기분...\n",
              "18039                [GN0101]  ...  [설렘, 사랑, 힐링, 휴식, 기분전환, 힙합, 랩, 까페, 잔잔한, 아이유, 그루...\n",
              "\n",
              "[2 rows x 10 columns]"
            ]
          },
          "metadata": {
            "tags": []
          },
          "execution_count": 278
        }
      ]
    },
    {
      "cell_type": "markdown",
      "metadata": {
        "id": "szTx8tYTTWbC"
      },
      "source": [
        "## 🧀 **2. top k개의 유사곡을 추천합니다.**\n",
        "* `topk` 변수를 통해 추천 곡 수를 조절합니다.\n",
        "* 제목이 같은 곡이 여러개라면 사용자가 선택하도록 합니다.\n",
        "* 없는 곡을 입력한 경우 랜덤으로 한 곡을 추천합니다.\n",
        "* topk개의 곡 중 랜덤으로 하나의 곡의 링크를 제공합니다."
      ]
    },
    {
      "cell_type": "code",
      "metadata": {
        "id": "St64GKMUJwHX"
      },
      "source": [
        "class RecSongs:\n",
        "    def __init__(self, database , topk = 10):\n",
        "        self.index_emoji = ['💛','💚','💙','💜','🧡']\n",
        "        self.k = topk\n",
        "        self.sim_songs = {sid:sim[:topk] for sid,sim in sim_songs.items()} # topk개만큼 추천한다.\n",
        "        self.sid_list = list(self.sim_songs.keys())\n",
        "        self.db = database # trie object를 DB로 이용한다.\n",
        "\n",
        "    def get_url(self, query):\n",
        "        url_encoding = parse.quote(query)\n",
        "        return f'https://www.melon.com/search/song/index.htm?q={url_encoding}'\n",
        "\n",
        "    def random_recommendation(self, candidates = False):\n",
        "        if not candidates:\n",
        "            random_sid = random.choice(self.sid_list)\n",
        "        else:\n",
        "            random_sid = random.choice(candidates)\n",
        "            \n",
        "        return self.get_url(sid_to_meta[random_sid]['song_name'])\n",
        "\n",
        "    def recommend_sim_songs(self):\n",
        "        query = input(\"👩‍🏫 유사곡을 추천받고 싶은 노래 제목을 알려주세요 ! :  \")\n",
        "        results = self.db.search(query)\n",
        "\n",
        "        if not results:\n",
        "            print(f\"\\n😥 {query}...? 아직 잘 모르는 노래에요 ㅠ_ㅠ 꼭 한 번 들어볼게요\")\n",
        "            \n",
        "            print(\"\\n🎁 그냥 가기 아쉬우니 아무 노래나 추천 ! 멜론에서 들어보아요 ! > \",self.random_recommendation() )\n",
        "            return\n",
        "        \n",
        "        index = 0\n",
        "\n",
        "        if len(results) >= 2:\n",
        "            for i,sid in enumerate(results):\n",
        "                album, song, artist = sid_to_meta[sid].values()\n",
        "                print(f'\\n\\t {self.index_emoji[i%5]} {i+1} < {\" , \".join(artist)} > 의 앨범 < {album} > 에 담긴 노래 << {song} >>')\n",
        "\n",
        "            index = int(input(f\"\\n💁‍♂ {1}부터 {len(results)}까지 중에서 몇 번째 노래인지 골라주세요 ! : \"))\n",
        "            index -= 1\n",
        "\n",
        "        sid = results[index]\n",
        "        album, song, artist = sid_to_meta[sid].values()\n",
        "        candidates = self.sim_songs[sid]\n",
        "\n",
        "        recommendation = song_meta_subset.loc[candidates].reset_index(drop=True)\n",
        "\n",
        "        print(f\"\\n🎵 {' , '.join(artist)}의 {song} 저도 좋아해요 ! 여기 유사한 곡이에요 ! 🍈\\n\")\n",
        "        display(recommendation)\n",
        "\n",
        "        print(\"\\n🎁 랜덤 추천 ! 멜론에서 들어보아요 ! > \",self.random_recommendation(candidates))"
      ],
      "execution_count": 363,
      "outputs": []
    },
    {
      "cell_type": "code",
      "metadata": {
        "id": "Uo5KkRtoTzKE"
      },
      "source": [
        "rec_songs = RecSongs(trie,8)"
      ],
      "execution_count": 364,
      "outputs": []
    },
    {
      "cell_type": "markdown",
      "metadata": {
        "id": "3vzegIwndi1f"
      },
      "source": [
        "#🙋 **유사곡 top10을 추천해보자 !**"
      ]
    },
    {
      "cell_type": "markdown",
      "metadata": {
        "id": "wKyZVzOFR9nQ"
      },
      "source": [
        "## 🌸 **아이유의 <봄 사랑 벚꽃말고>와 유사한 곡을 추천해줘 !**\n",
        "* topk의 추천곡 중 랜덤으로 한 곡의 멜론 링크를 제공합니다."
      ]
    },
    {
      "cell_type": "code",
      "metadata": {
        "id": "-7rSjglzKTqT",
        "outputId": "22a208c7-4ccb-4418-bf26-db687f1e9e62",
        "colab": {
          "base_uri": "https://localhost:8080/",
          "height": 493
        }
      },
      "source": [
        "rec_songs.recommend_sim_songs()"
      ],
      "execution_count": 365,
      "outputs": [
        {
          "output_type": "stream",
          "text": [
            "👩‍🏫 유사곡을 추천받고 싶은 노래 제목을 알려주세요 ! :  봄 ~ 사랑 ~ 벚꽃 말고 ~\n",
            "\n",
            "\t 💛 1 < HIGH4 (하이포) , 아이유 > 의 앨범 < 봄 사랑 벚꽃 말고 > 에 담긴 노래 << 봄 사랑 벚꽃 말고 >>\n",
            "\n",
            "\t 💚 2 < HIGH4 (하이포) , 아이유 > 의 앨범 < 봄 사랑 벚꽃 말고 > 에 담긴 노래 << 봄 사랑 벚꽃 말고 (Inst.) >>\n",
            "\n",
            "💁‍♂ 1부터 2까지 중에서 몇 번째 노래인지 골라주세요 ! : 1\n",
            "\n",
            "🎵 HIGH4 (하이포) , 아이유의 봄 사랑 벚꽃 말고 저도 좋아해요 ! 여기 유사한 곡이에요 ! 🍈\n",
            "\n"
          ],
          "name": "stdout"
        },
        {
          "output_type": "display_data",
          "data": {
            "text/html": [
              "<div>\n",
              "<style scoped>\n",
              "    .dataframe tbody tr th:only-of-type {\n",
              "        vertical-align: middle;\n",
              "    }\n",
              "\n",
              "    .dataframe tbody tr th {\n",
              "        vertical-align: top;\n",
              "    }\n",
              "\n",
              "    .dataframe thead th {\n",
              "        text-align: right;\n",
              "    }\n",
              "</style>\n",
              "<table border=\"1\" class=\"dataframe\">\n",
              "  <thead>\n",
              "    <tr style=\"text-align: right;\">\n",
              "      <th></th>\n",
              "      <th>앨범 제목은 !</th>\n",
              "      <th>노래 제목은 !</th>\n",
              "      <th>가수는 누구인가 !</th>\n",
              "    </tr>\n",
              "  </thead>\n",
              "  <tbody>\n",
              "    <tr>\n",
              "      <th>0</th>\n",
              "      <td>냄새를 보는 소녀 OST Part.2</td>\n",
              "      <td>우연히 봄</td>\n",
              "      <td>[로꼬, 유주 (여자친구)]</td>\n",
              "    </tr>\n",
              "    <tr>\n",
              "      <th>1</th>\n",
              "      <td>봄 타나봐 (BOMTANABA)</td>\n",
              "      <td>봄 타나봐 (BOMTANABA)</td>\n",
              "      <td>[서인국]</td>\n",
              "    </tr>\n",
              "    <tr>\n",
              "      <th>2</th>\n",
              "      <td>봄인가 봐 (Spring Love) - SM STATION</td>\n",
              "      <td>봄인가 봐 (Spring Love)</td>\n",
              "      <td>[에릭남 (Eric Nam), 웬디 (WENDY)]</td>\n",
              "    </tr>\n",
              "    <tr>\n",
              "      <th>3</th>\n",
              "      <td>썸</td>\n",
              "      <td>썸 (Feat. 릴보이 Of 긱스)</td>\n",
              "      <td>[소유 (SOYOU), 정기고]</td>\n",
              "    </tr>\n",
              "    <tr>\n",
              "      <th>4</th>\n",
              "      <td>Modern Times - Epilogue</td>\n",
              "      <td>금요일에 만나요 (Feat. 장이정 Of HISTORY)</td>\n",
              "      <td>[아이유]</td>\n",
              "    </tr>\n",
              "    <tr>\n",
              "      <th>5</th>\n",
              "      <td>버스커 버스커 1집</td>\n",
              "      <td>벚꽃 엔딩</td>\n",
              "      <td>[버스커 버스커]</td>\n",
              "    </tr>\n",
              "    <tr>\n",
              "      <th>6</th>\n",
              "      <td>The 3rd Album Part.2 `Love Blossom (러브블러썸)`</td>\n",
              "      <td>Love Blossom (러브블러썸)</td>\n",
              "      <td>[케이윌]</td>\n",
              "    </tr>\n",
              "    <tr>\n",
              "      <th>7</th>\n",
              "      <td>PLAY</td>\n",
              "      <td>Give Love</td>\n",
              "      <td>[AKMU (악동뮤지션)]</td>\n",
              "    </tr>\n",
              "  </tbody>\n",
              "</table>\n",
              "</div>"
            ],
            "text/plain": [
              "                                      앨범 제목은 !  ...                    가수는 누구인가 !\n",
              "0                         냄새를 보는 소녀 OST Part.2  ...               [로꼬, 유주 (여자친구)]\n",
              "1                            봄 타나봐 (BOMTANABA)  ...                         [서인국]\n",
              "2             봄인가 봐 (Spring Love) - SM STATION  ...  [에릭남 (Eric Nam), 웬디 (WENDY)]\n",
              "3                                            썸  ...             [소유 (SOYOU), 정기고]\n",
              "4                      Modern Times - Epilogue  ...                         [아이유]\n",
              "5                                   버스커 버스커 1집  ...                     [버스커 버스커]\n",
              "6  The 3rd Album Part.2 `Love Blossom (러브블러썸)`  ...                         [케이윌]\n",
              "7                                         PLAY  ...                [AKMU (악동뮤지션)]\n",
              "\n",
              "[8 rows x 3 columns]"
            ]
          },
          "metadata": {
            "tags": []
          }
        },
        {
          "output_type": "stream",
          "text": [
            "\n",
            "🎁 랜덤 추천 ! 멜론에서 들어보아요 ! >  https://www.melon.com/search/song/index.htm?q=%EC%9A%B0%EC%97%B0%ED%9E%88%20%EB%B4%84\n"
          ],
          "name": "stdout"
        }
      ]
    },
    {
      "cell_type": "markdown",
      "metadata": {
        "id": "YyKxIVa5RoWj"
      },
      "source": [
        "## 👻 **<죠르디 귀여워 쏭> 과 유사한 곡을 추천해줘 !**\n",
        "* DB에 없는 노래를 입력한 경우 랜덤으로 노래 한 곡을 추천합니다."
      ]
    },
    {
      "cell_type": "code",
      "metadata": {
        "id": "HcEyU-ShLWlV",
        "outputId": "40e6161f-0b0e-4592-edc7-c327524176d1",
        "colab": {
          "base_uri": "https://localhost:8080/"
        }
      },
      "source": [
        "rec_songs.recommend_sim_songs()"
      ],
      "execution_count": 366,
      "outputs": [
        {
          "output_type": "stream",
          "text": [
            "👩‍🏫 유사곡을 추천받고 싶은 노래 제목을 알려주세요 ! :  죠르디 귀여워 쏭\n",
            "\n",
            "😥 죠르디 귀여워 쏭...? 아직 잘 모르는 노래에요 ㅠ_ㅠ 꼭 한 번 들어볼게요\n",
            "\n",
            "🎁 그냥 가기 아쉬우니 아무 노래나 추천 ! 멜론에서 들어보아요 ! >  https://www.melon.com/search/song/index.htm?q=%EB%84%88%EC%9D%98%20%EA%B3%BC%EA%B1%B0%EA%B0%80%20%EB%90%A0%20%EC%9A%A9%EA%B8%B0\n"
          ],
          "name": "stdout"
        }
      ]
    },
    {
      "cell_type": "markdown",
      "metadata": {
        "id": "OWO0hnSPRm4U"
      },
      "source": [
        "## 🌷 **오마이걸의 <비밀정원>과 유사한 곡을 추천해줘 !**"
      ]
    },
    {
      "cell_type": "code",
      "metadata": {
        "id": "FITX1HZiRM_l",
        "outputId": "dbdfc6a4-8303-4fde-b53a-90fd4198b7d5",
        "colab": {
          "base_uri": "https://localhost:8080/",
          "height": 565
        }
      },
      "source": [
        "rec_songs.recommend_sim_songs()"
      ],
      "execution_count": 367,
      "outputs": [
        {
          "output_type": "stream",
          "text": [
            "👩‍🏫 유사곡을 추천받고 싶은 노래 제목을 알려주세요 ! :  비밀 정원\n",
            "\n",
            "\t 💛 1 < 오마이걸 > 의 앨범 < 비밀정원 > 에 담긴 노래 << 비밀정원 >>\n",
            "\n",
            "\t 💚 2 < 러블리즈 > 의 앨범 < Lovelyz 3rd Mini Album (Fall in Lovelyz) > 에 담긴 노래 << 비밀정원 >>\n",
            "\n",
            "\t 💙 3 < 그레이프 티 (Grape T) > 의 앨범 < Blossom > 에 담긴 노래 << 비밀 정원 >>\n",
            "\n",
            "\t 💜 4 < 러블리즈 > 의 앨범 < Muse on Music > 에 담긴 노래 << 비밀정원 >>\n",
            "\n",
            "💁‍♂ 1부터 4까지 중에서 몇 번째 노래인지 골라주세요 ! : 1\n",
            "\n",
            "🎵 오마이걸의 비밀정원 저도 좋아해요 ! 여기 유사한 곡이에요 ! 🍈\n",
            "\n"
          ],
          "name": "stdout"
        },
        {
          "output_type": "display_data",
          "data": {
            "text/html": [
              "<div>\n",
              "<style scoped>\n",
              "    .dataframe tbody tr th:only-of-type {\n",
              "        vertical-align: middle;\n",
              "    }\n",
              "\n",
              "    .dataframe tbody tr th {\n",
              "        vertical-align: top;\n",
              "    }\n",
              "\n",
              "    .dataframe thead th {\n",
              "        text-align: right;\n",
              "    }\n",
              "</style>\n",
              "<table border=\"1\" class=\"dataframe\">\n",
              "  <thead>\n",
              "    <tr style=\"text-align: right;\">\n",
              "      <th></th>\n",
              "      <th>앨범 제목은 !</th>\n",
              "      <th>노래 제목은 !</th>\n",
              "      <th>가수는 누구인가 !</th>\n",
              "    </tr>\n",
              "  </thead>\n",
              "  <tbody>\n",
              "    <tr>\n",
              "      <th>0</th>\n",
              "      <td>OH MY GIRL 6th Mini Album (REMEMBER ME)</td>\n",
              "      <td>불꽃놀이 (Remember Me)</td>\n",
              "      <td>[오마이걸]</td>\n",
              "    </tr>\n",
              "    <tr>\n",
              "      <th>1</th>\n",
              "      <td>What is Love?</td>\n",
              "      <td>What is Love?</td>\n",
              "      <td>[TWICE (트와이스)]</td>\n",
              "    </tr>\n",
              "    <tr>\n",
              "      <th>2</th>\n",
              "      <td>여자친구 The 6th Mini Album &amp;#39;Time for the moon...</td>\n",
              "      <td>밤 (Time for the moon night)</td>\n",
              "      <td>[여자친구 (GFRIEND)]</td>\n",
              "    </tr>\n",
              "    <tr>\n",
              "      <th>3</th>\n",
              "      <td>Perfect Velvet - The 2nd Album</td>\n",
              "      <td>피카부 (Peek-A-Boo)</td>\n",
              "      <td>[Red Velvet (레드벨벳)]</td>\n",
              "    </tr>\n",
              "    <tr>\n",
              "      <th>4</th>\n",
              "      <td>From. 우주소녀</td>\n",
              "      <td>너에게 닿기를 (I Wish)</td>\n",
              "      <td>[우주소녀]</td>\n",
              "    </tr>\n",
              "    <tr>\n",
              "      <th>5</th>\n",
              "      <td>Lovelyz 2nd Album Repackage `지금, 우리`</td>\n",
              "      <td>지금, 우리</td>\n",
              "      <td>[러블리즈]</td>\n",
              "    </tr>\n",
              "    <tr>\n",
              "      <th>6</th>\n",
              "      <td>Merry &amp; Happy</td>\n",
              "      <td>Heart Shaker</td>\n",
              "      <td>[TWICE (트와이스)]</td>\n",
              "    </tr>\n",
              "    <tr>\n",
              "      <th>7</th>\n",
              "      <td>GREAT!</td>\n",
              "      <td>뿜뿜</td>\n",
              "      <td>[모모랜드 (MOMOLAND)]</td>\n",
              "    </tr>\n",
              "  </tbody>\n",
              "</table>\n",
              "</div>"
            ],
            "text/plain": [
              "                                            앨범 제목은 !  ...           가수는 누구인가 !\n",
              "0            OH MY GIRL 6th Mini Album (REMEMBER ME)  ...               [오마이걸]\n",
              "1                                      What is Love?  ...       [TWICE (트와이스)]\n",
              "2  여자친구 The 6th Mini Album &#39;Time for the moon...  ...     [여자친구 (GFRIEND)]\n",
              "3                     Perfect Velvet - The 2nd Album  ...  [Red Velvet (레드벨벳)]\n",
              "4                                         From. 우주소녀  ...               [우주소녀]\n",
              "5               Lovelyz 2nd Album Repackage `지금, 우리`  ...               [러블리즈]\n",
              "6                                      Merry & Happy  ...       [TWICE (트와이스)]\n",
              "7                                             GREAT!  ...    [모모랜드 (MOMOLAND)]\n",
              "\n",
              "[8 rows x 3 columns]"
            ]
          },
          "metadata": {
            "tags": []
          }
        },
        {
          "output_type": "stream",
          "text": [
            "\n",
            "🎁 랜덤 추천 ! 멜론에서 들어보아요 ! >  https://www.melon.com/search/song/index.htm?q=%EB%B0%A4%20%28Time%20for%20the%20moon%20night%29\n"
          ],
          "name": "stdout"
        }
      ]
    },
    {
      "cell_type": "markdown",
      "metadata": {
        "id": "G11uho9laOfF"
      },
      "source": [
        "## 🎤 **장범준의 <노래방에서>와 유사한 곡을 추천해줘!**"
      ]
    },
    {
      "cell_type": "code",
      "metadata": {
        "id": "0k0gIkHGRR2S",
        "outputId": "0b52d4c1-6af0-4b1d-fc0d-7b6521b8a5ff",
        "colab": {
          "base_uri": "https://localhost:8080/",
          "height": 565
        }
      },
      "source": [
        "rec_songs.recommend_sim_songs()"
      ],
      "execution_count": 368,
      "outputs": [
        {
          "output_type": "stream",
          "text": [
            "👩‍🏫 유사곡을 추천받고 싶은 노래 제목을 알려주세요 ! :  노래방에서~\n",
            "\n",
            "\t 💛 1 < 반하나 > 의 앨범 < 노래방에서 > 에 담긴 노래 << 노래방에서 >>\n",
            "\n",
            "\t 💚 2 < 장범준 > 의 앨범 < 장범준 3집 > 에 담긴 노래 << 노래방에서 >>\n",
            "\n",
            "\t 💙 3 < 서은광 , 앤씨아 > 의 앨범 < 노래방에서 > 에 담긴 노래 << 노래방에서 >>\n",
            "\n",
            "\t 💜 4 < 서은광 , 앤씨아 > 의 앨범 < 노래방에서 > 에 담긴 노래 << 노래방에서 (Inst.) >>\n",
            "\n",
            "💁‍♂ 1부터 4까지 중에서 몇 번째 노래인지 골라주세요 ! : 2\n",
            "\n",
            "🎵 장범준의 노래방에서 저도 좋아해요 ! 여기 유사한 곡이에요 ! 🍈\n",
            "\n"
          ],
          "name": "stdout"
        },
        {
          "output_type": "display_data",
          "data": {
            "text/html": [
              "<div>\n",
              "<style scoped>\n",
              "    .dataframe tbody tr th:only-of-type {\n",
              "        vertical-align: middle;\n",
              "    }\n",
              "\n",
              "    .dataframe tbody tr th {\n",
              "        vertical-align: top;\n",
              "    }\n",
              "\n",
              "    .dataframe thead th {\n",
              "        text-align: right;\n",
              "    }\n",
              "</style>\n",
              "<table border=\"1\" class=\"dataframe\">\n",
              "  <thead>\n",
              "    <tr style=\"text-align: right;\">\n",
              "      <th></th>\n",
              "      <th>앨범 제목은 !</th>\n",
              "      <th>노래 제목은 !</th>\n",
              "      <th>가수는 누구인가 !</th>\n",
              "    </tr>\n",
              "  </thead>\n",
              "  <tbody>\n",
              "    <tr>\n",
              "      <th>0</th>\n",
              "      <td>장범준 3집</td>\n",
              "      <td>당신과는 천천히</td>\n",
              "      <td>[장범준]</td>\n",
              "    </tr>\n",
              "    <tr>\n",
              "      <th>1</th>\n",
              "      <td>전설</td>\n",
              "      <td>주저하는 연인들을 위해</td>\n",
              "      <td>[잔나비]</td>\n",
              "    </tr>\n",
              "    <tr>\n",
              "      <th>2</th>\n",
              "      <td>진심이 담긴 노래 (True Song)</td>\n",
              "      <td>진심이 담긴 노래 (True Song)</td>\n",
              "      <td>[케이시 (Kassy)]</td>\n",
              "    </tr>\n",
              "    <tr>\n",
              "      <th>3</th>\n",
              "      <td>FLY HIGH PROJECT #2 `옥탑방`</td>\n",
              "      <td>옥탑방 (Rooftop)</td>\n",
              "      <td>[엔플라잉 (N.Flying)]</td>\n",
              "    </tr>\n",
              "    <tr>\n",
              "      <th>4</th>\n",
              "      <td>사춘기집Ⅰ 꽃기운</td>\n",
              "      <td>나만, 봄</td>\n",
              "      <td>[볼빨간사춘기]</td>\n",
              "    </tr>\n",
              "    <tr>\n",
              "      <th>5</th>\n",
              "      <td>그때가 좋았어</td>\n",
              "      <td>그때가 좋았어</td>\n",
              "      <td>[케이시 (Kassy)]</td>\n",
              "    </tr>\n",
              "    <tr>\n",
              "      <th>6</th>\n",
              "      <td>Spring</td>\n",
              "      <td>봄 (feat. 산다라박)</td>\n",
              "      <td>[박봄]</td>\n",
              "    </tr>\n",
              "    <tr>\n",
              "      <th>7</th>\n",
              "      <td>사춘기집Ⅰ 꽃기운</td>\n",
              "      <td>별 보러 갈래?</td>\n",
              "      <td>[볼빨간사춘기]</td>\n",
              "    </tr>\n",
              "  </tbody>\n",
              "</table>\n",
              "</div>"
            ],
            "text/plain": [
              "                    앨범 제목은 !               노래 제목은 !         가수는 누구인가 !\n",
              "0                     장범준 3집               당신과는 천천히              [장범준]\n",
              "1                         전설           주저하는 연인들을 위해              [잔나비]\n",
              "2      진심이 담긴 노래 (True Song)  진심이 담긴 노래 (True Song)      [케이시 (Kassy)]\n",
              "3  FLY HIGH PROJECT #2 `옥탑방`          옥탑방 (Rooftop)  [엔플라잉 (N.Flying)]\n",
              "4                  사춘기집Ⅰ 꽃기운                  나만, 봄           [볼빨간사춘기]\n",
              "5                    그때가 좋았어                그때가 좋았어      [케이시 (Kassy)]\n",
              "6                     Spring         봄 (feat. 산다라박)               [박봄]\n",
              "7                  사춘기집Ⅰ 꽃기운               별 보러 갈래?           [볼빨간사춘기]"
            ]
          },
          "metadata": {
            "tags": []
          }
        },
        {
          "output_type": "stream",
          "text": [
            "\n",
            "🎁 랜덤 추천 ! 멜론에서 들어보아요 ! >  https://www.melon.com/search/song/index.htm?q=%EB%82%98%EB%A7%8C%2C%20%EB%B4%84\n"
          ],
          "name": "stdout"
        }
      ]
    },
    {
      "cell_type": "markdown",
      "metadata": {
        "id": "zDPPnviddHkb"
      },
      "source": [
        "## 💚 **백예린의 < Square >와 유사한 곡을 추천해줘!**"
      ]
    },
    {
      "cell_type": "code",
      "metadata": {
        "id": "WwFydE9dj4Nb",
        "outputId": "feaf97fb-57b4-4924-8a29-fe6613744ad7",
        "colab": {
          "base_uri": "https://localhost:8080/",
          "height": 529
        }
      },
      "source": [
        "rec_songs.recommend_sim_songs()"
      ],
      "execution_count": 369,
      "outputs": [
        {
          "output_type": "stream",
          "text": [
            "👩‍🏫 유사곡을 추천받고 싶은 노래 제목을 알려주세요 ! :  square\n",
            "\n",
            "\t 💛 1 < 백예린 > 의 앨범 < Every letter I sent you. > 에 담긴 노래 << Square (2017) >>\n",
            "\n",
            "\t 💚 2 < 플라잉비83 > 의 앨범 < One Two Zero > 에 담긴 노래 << Square >>\n",
            "\n",
            "\t 💙 3 < Ryan Bader > 의 앨범 < Tech House Lady Lover > 에 담긴 노래 << Square >>\n",
            "\n",
            "💁‍♂ 1부터 3까지 중에서 몇 번째 노래인지 골라주세요 ! : 1\n",
            "\n",
            "🎵 백예린의 Square (2017) 저도 좋아해요 ! 여기 유사한 곡이에요 ! 🍈\n",
            "\n"
          ],
          "name": "stdout"
        },
        {
          "output_type": "display_data",
          "data": {
            "text/html": [
              "<div>\n",
              "<style scoped>\n",
              "    .dataframe tbody tr th:only-of-type {\n",
              "        vertical-align: middle;\n",
              "    }\n",
              "\n",
              "    .dataframe tbody tr th {\n",
              "        vertical-align: top;\n",
              "    }\n",
              "\n",
              "    .dataframe thead th {\n",
              "        text-align: right;\n",
              "    }\n",
              "</style>\n",
              "<table border=\"1\" class=\"dataframe\">\n",
              "  <thead>\n",
              "    <tr style=\"text-align: right;\">\n",
              "      <th></th>\n",
              "      <th>앨범 제목은 !</th>\n",
              "      <th>노래 제목은 !</th>\n",
              "      <th>가수는 누구인가 !</th>\n",
              "    </tr>\n",
              "  </thead>\n",
              "  <tbody>\n",
              "    <tr>\n",
              "      <th>0</th>\n",
              "      <td>Love poem</td>\n",
              "      <td>Blueming</td>\n",
              "      <td>[아이유]</td>\n",
              "    </tr>\n",
              "    <tr>\n",
              "      <th>1</th>\n",
              "      <td>Our love is great</td>\n",
              "      <td>야간비행 (魔女の花)</td>\n",
              "      <td>[백예린]</td>\n",
              "    </tr>\n",
              "    <tr>\n",
              "      <th>2</th>\n",
              "      <td>From Midnight To Sunrise</td>\n",
              "      <td>Alone</td>\n",
              "      <td>[Crush]</td>\n",
              "    </tr>\n",
              "    <tr>\n",
              "      <th>3</th>\n",
              "      <td>사랑의 불시착 OST Part 4</td>\n",
              "      <td>다시 난, 여기</td>\n",
              "      <td>[백예린]</td>\n",
              "    </tr>\n",
              "    <tr>\n",
              "      <th>4</th>\n",
              "      <td>From Midnight To Sunrise</td>\n",
              "      <td>With You</td>\n",
              "      <td>[Crush]</td>\n",
              "    </tr>\n",
              "    <tr>\n",
              "      <th>5</th>\n",
              "      <td>Red Moon : Happiness</td>\n",
              "      <td>마음이 말하는 행복 (Happiness) (Feat.이라온)</td>\n",
              "      <td>[마크툽 (MAKTUB)]</td>\n",
              "    </tr>\n",
              "    <tr>\n",
              "      <th>6</th>\n",
              "      <td>Loveship</td>\n",
              "      <td>Loveship</td>\n",
              "      <td>[폴킴, 청하]</td>\n",
              "    </tr>\n",
              "    <tr>\n",
              "      <th>7</th>\n",
              "      <td>혼자</td>\n",
              "      <td>혼자</td>\n",
              "      <td>[다이나믹 듀오, 첸 (CHEN)]</td>\n",
              "    </tr>\n",
              "  </tbody>\n",
              "</table>\n",
              "</div>"
            ],
            "text/plain": [
              "                   앨범 제목은 !  ...           가수는 누구인가 !\n",
              "0                 Love poem  ...                [아이유]\n",
              "1         Our love is great  ...                [백예린]\n",
              "2  From Midnight To Sunrise  ...              [Crush]\n",
              "3        사랑의 불시착 OST Part 4  ...                [백예린]\n",
              "4  From Midnight To Sunrise  ...              [Crush]\n",
              "5      Red Moon : Happiness  ...       [마크툽 (MAKTUB)]\n",
              "6                  Loveship  ...             [폴킴, 청하]\n",
              "7                        혼자  ...  [다이나믹 듀오, 첸 (CHEN)]\n",
              "\n",
              "[8 rows x 3 columns]"
            ]
          },
          "metadata": {
            "tags": []
          }
        },
        {
          "output_type": "stream",
          "text": [
            "\n",
            "🎁 랜덤 추천 ! 멜론에서 들어보아요 ! >  https://www.melon.com/search/song/index.htm?q=%EC%95%BC%EA%B0%84%EB%B9%84%ED%96%89%20%28%E9%AD%94%E5%A5%B3%E3%81%AE%E8%8A%B1%29\n"
          ],
          "name": "stdout"
        }
      ]
    },
    {
      "cell_type": "markdown",
      "metadata": {
        "id": "uK4-q0qAfhjE"
      },
      "source": [
        "## 🎸 **Pink Sweat$의 < Honesty >와 유사한 곡을 추천해줘 !**"
      ]
    },
    {
      "cell_type": "code",
      "metadata": {
        "id": "eYGrlk6f2MmB",
        "outputId": "6845b5ec-b053-4071-f079-56246bcea15b",
        "colab": {
          "base_uri": "https://localhost:8080/",
          "height": 925
        }
      },
      "source": [
        "rec_songs.recommend_sim_songs()"
      ],
      "execution_count": 371,
      "outputs": [
        {
          "output_type": "stream",
          "text": [
            "👩‍🏫 유사곡을 추천받고 싶은 노래 제목을 알려주세요 ! :  honesty\n",
            "\n",
            "\t 💛 1 < Beyonce > 의 앨범 < I Am... Sasha Fierce (Platinum Edition) > 에 담긴 노래 << Honesty >>\n",
            "\n",
            "\t 💚 2 < Billy Joel > 의 앨범 < Piano Man - The Very Best Of Billy Joel > 에 담긴 노래 << Honesty >>\n",
            "\n",
            "\t 💙 3 < Billy Joel > 의 앨범 < 이달의 팝 : 365일, 팝 음악을 만나다 > 에 담긴 노래 << Honesty >>\n",
            "\n",
            "\t 💜 4 < Landser > 의 앨범 < Jazzin` Cafe > 에 담긴 노래 << Honesty >>\n",
            "\n",
            "\t 🧡 5 < Pink Sweat$ > 의 앨범 < Volume 1 EP > 에 담긴 노래 << Honesty >>\n",
            "\n",
            "\t 💛 6 < Pink Sweat$ > 의 앨범 < Honesty (Remix) [feat. Jessie Reyez] > 에 담긴 노래 << Honesty (Remix) [feat. Jessie Reyez] >>\n",
            "\n",
            "\t 💚 7 < Billy Joel > 의 앨범 < She`s Got A Way : Love Songs > 에 담긴 노래 << Honesty >>\n",
            "\n",
            "\t 💙 8 < 신화 > 의 앨범 < Perfect Man > 에 담긴 노래 << Honesty >>\n",
            "\n",
            "\t 💜 9 < Justin Park > 의 앨범 < Honesty (Pink Sweat$ Cover) > 에 담긴 노래 << Honesty (Pink Sweat$ Cover) >>\n",
            "\n",
            "\t 🧡 10 < Billy Joel > 의 앨범 < 52nd Street > 에 담긴 노래 << Honesty >>\n",
            "\n",
            "\t 💛 11 < Billy Joel > 의 앨범 < Billy Joel : She`s Always A Woman : The Love Songs > 에 담긴 노래 << Honesty >>\n",
            "\n",
            "\t 💚 12 < European Jazz Trio > 의 앨범 < Mona Lisa > 에 담긴 노래 << Honesty >>\n",
            "\n",
            "\t 💙 13 < Billy Joel > 의 앨범 < Billy Joel The Ultimate Collection > 에 담긴 노래 << Honesty >>\n",
            "\n",
            "\t 💜 14 < Billy Joel > 의 앨범 < The Essential > 에 담긴 노래 << Honesty >>\n",
            "\n",
            "💁‍♂ 1부터 14까지 중에서 몇 번째 노래인지 골라주세요 ! : 5\n",
            "\n",
            "🎵 Pink Sweat$의 Honesty 저도 좋아해요 ! 여기 유사한 곡이에요 ! 🍈\n",
            "\n"
          ],
          "name": "stdout"
        },
        {
          "output_type": "display_data",
          "data": {
            "text/html": [
              "<div>\n",
              "<style scoped>\n",
              "    .dataframe tbody tr th:only-of-type {\n",
              "        vertical-align: middle;\n",
              "    }\n",
              "\n",
              "    .dataframe tbody tr th {\n",
              "        vertical-align: top;\n",
              "    }\n",
              "\n",
              "    .dataframe thead th {\n",
              "        text-align: right;\n",
              "    }\n",
              "</style>\n",
              "<table border=\"1\" class=\"dataframe\">\n",
              "  <thead>\n",
              "    <tr style=\"text-align: right;\">\n",
              "      <th></th>\n",
              "      <th>앨범 제목은 !</th>\n",
              "      <th>노래 제목은 !</th>\n",
              "      <th>가수는 누구인가 !</th>\n",
              "    </tr>\n",
              "  </thead>\n",
              "  <tbody>\n",
              "    <tr>\n",
              "      <th>0</th>\n",
              "      <td>Selfless</td>\n",
              "      <td>EX</td>\n",
              "      <td>[Kiana Lede]</td>\n",
              "    </tr>\n",
              "    <tr>\n",
              "      <th>1</th>\n",
              "      <td>Soul Searching</td>\n",
              "      <td>I.F.L.Y.</td>\n",
              "      <td>[Bazzi]</td>\n",
              "    </tr>\n",
              "    <tr>\n",
              "      <th>2</th>\n",
              "      <td>right here</td>\n",
              "      <td>right here</td>\n",
              "      <td>[keshi]</td>\n",
              "    </tr>\n",
              "    <tr>\n",
              "      <th>3</th>\n",
              "      <td>Painkiller</td>\n",
              "      <td>Painkiller</td>\n",
              "      <td>[Ruel]</td>\n",
              "    </tr>\n",
              "    <tr>\n",
              "      <th>4</th>\n",
              "      <td>MINT</td>\n",
              "      <td>Tango</td>\n",
              "      <td>[Abir]</td>\n",
              "    </tr>\n",
              "    <tr>\n",
              "      <th>5</th>\n",
              "      <td>2 soon</td>\n",
              "      <td>2 soon</td>\n",
              "      <td>[keshi]</td>\n",
              "    </tr>\n",
              "    <tr>\n",
              "      <th>6</th>\n",
              "      <td>H.E.R.</td>\n",
              "      <td>Best Part (Feat. Daniel Caesar)</td>\n",
              "      <td>[H.E.R.]</td>\n",
              "    </tr>\n",
              "    <tr>\n",
              "      <th>7</th>\n",
              "      <td>summer,</td>\n",
              "      <td>comethru</td>\n",
              "      <td>[Jeremy Zucker]</td>\n",
              "    </tr>\n",
              "  </tbody>\n",
              "</table>\n",
              "</div>"
            ],
            "text/plain": [
              "         앨범 제목은 !                         노래 제목은 !       가수는 누구인가 !\n",
              "0        Selfless                               EX     [Kiana Lede]\n",
              "1  Soul Searching                         I.F.L.Y.          [Bazzi]\n",
              "2      right here                       right here          [keshi]\n",
              "3      Painkiller                       Painkiller           [Ruel]\n",
              "4            MINT                            Tango           [Abir]\n",
              "5          2 soon                           2 soon          [keshi]\n",
              "6          H.E.R.  Best Part (Feat. Daniel Caesar)         [H.E.R.]\n",
              "7         summer,                         comethru  [Jeremy Zucker]"
            ]
          },
          "metadata": {
            "tags": []
          }
        },
        {
          "output_type": "stream",
          "text": [
            "\n",
            "🎁 랜덤 추천 ! 멜론에서 들어보아요 ! >  https://www.melon.com/search/song/index.htm?q=Painkiller\n"
          ],
          "name": "stdout"
        }
      ]
    },
    {
      "cell_type": "markdown",
      "metadata": {
        "id": "uJ8ALG07f9Ph"
      },
      "source": [
        "## **검정치마의 <나랑 아니면>과 유사한 곡을 추천해줘!**"
      ]
    },
    {
      "cell_type": "code",
      "metadata": {
        "id": "4yTbBK5jfuQj",
        "outputId": "600d3a1b-6020-47f5-9b8d-b4cba58d84be",
        "colab": {
          "base_uri": "https://localhost:8080/",
          "height": 385
        }
      },
      "source": [
        "rec_songs.recommend_sim_songs()"
      ],
      "execution_count": 372,
      "outputs": [
        {
          "output_type": "stream",
          "text": [
            "👩‍🏫 유사곡을 추천받고 싶은 노래 제목을 알려주세요 ! :  나랑 아니면\n",
            "\n",
            "🎵 검정치마의 나랑 아니면 저도 좋아해요 ! 여기 유사한 곡이에요 ! 🍈\n",
            "\n"
          ],
          "name": "stdout"
        },
        {
          "output_type": "display_data",
          "data": {
            "text/html": [
              "<div>\n",
              "<style scoped>\n",
              "    .dataframe tbody tr th:only-of-type {\n",
              "        vertical-align: middle;\n",
              "    }\n",
              "\n",
              "    .dataframe tbody tr th {\n",
              "        vertical-align: top;\n",
              "    }\n",
              "\n",
              "    .dataframe thead th {\n",
              "        text-align: right;\n",
              "    }\n",
              "</style>\n",
              "<table border=\"1\" class=\"dataframe\">\n",
              "  <thead>\n",
              "    <tr style=\"text-align: right;\">\n",
              "      <th></th>\n",
              "      <th>앨범 제목은 !</th>\n",
              "      <th>노래 제목은 !</th>\n",
              "      <th>가수는 누구인가 !</th>\n",
              "    </tr>\n",
              "  </thead>\n",
              "  <tbody>\n",
              "    <tr>\n",
              "      <th>0</th>\n",
              "      <td>EVERYTHING</td>\n",
              "      <td>EVERYTHING</td>\n",
              "      <td>[검정치마]</td>\n",
              "    </tr>\n",
              "    <tr>\n",
              "      <th>1</th>\n",
              "      <td>She</td>\n",
              "      <td>She (Hidden Track No.V 1월 선정곡)</td>\n",
              "      <td>[잔나비]</td>\n",
              "    </tr>\n",
              "    <tr>\n",
              "      <th>2</th>\n",
              "      <td>MONKEY HOTEL</td>\n",
              "      <td>뜨거운 여름밤은 가고 남은 건 볼품없지만</td>\n",
              "      <td>[잔나비]</td>\n",
              "    </tr>\n",
              "    <tr>\n",
              "      <th>3</th>\n",
              "      <td>1</td>\n",
              "      <td>No One Told Me Why</td>\n",
              "      <td>[알레프 (ALEPH)]</td>\n",
              "    </tr>\n",
              "    <tr>\n",
              "      <th>4</th>\n",
              "      <td>Note#4</td>\n",
              "      <td>Alone</td>\n",
              "      <td>[Collective Arts (콜렉티브아츠), 김현창]</td>\n",
              "    </tr>\n",
              "    <tr>\n",
              "      <th>5</th>\n",
              "      <td>DEAR : X</td>\n",
              "      <td>선을 그어 주던가</td>\n",
              "      <td>[1415]</td>\n",
              "    </tr>\n",
              "    <tr>\n",
              "      <th>6</th>\n",
              "      <td>TEAM BABY</td>\n",
              "      <td>한시 오분 (1:05)</td>\n",
              "      <td>[검정치마]</td>\n",
              "    </tr>\n",
              "    <tr>\n",
              "      <th>7</th>\n",
              "      <td>APARTMENT</td>\n",
              "      <td>Home Sweet Home</td>\n",
              "      <td>[카더가든]</td>\n",
              "    </tr>\n",
              "  </tbody>\n",
              "</table>\n",
              "</div>"
            ],
            "text/plain": [
              "       앨범 제목은 !  ...                       가수는 누구인가 !\n",
              "0    EVERYTHING  ...                           [검정치마]\n",
              "1           She  ...                            [잔나비]\n",
              "2  MONKEY HOTEL  ...                            [잔나비]\n",
              "3             1  ...                    [알레프 (ALEPH)]\n",
              "4        Note#4  ...  [Collective Arts (콜렉티브아츠), 김현창]\n",
              "5      DEAR : X  ...                           [1415]\n",
              "6     TEAM BABY  ...                           [검정치마]\n",
              "7     APARTMENT  ...                           [카더가든]\n",
              "\n",
              "[8 rows x 3 columns]"
            ]
          },
          "metadata": {
            "tags": []
          }
        },
        {
          "output_type": "stream",
          "text": [
            "\n",
            "🎁 랜덤 추천 ! 멜론에서 들어보아요 ! >  https://www.melon.com/search/song/index.htm?q=EVERYTHING\n"
          ],
          "name": "stdout"
        }
      ]
    },
    {
      "cell_type": "markdown",
      "metadata": {
        "id": "OUGqEGLTgCKo"
      },
      "source": [
        "## **죠지의 < Boat >와 유사한 곡을 추천해줘 !**"
      ]
    },
    {
      "cell_type": "code",
      "metadata": {
        "id": "C39f2rRoeJ6X",
        "outputId": "8bd261fc-2bfd-48d2-a190-b926cea50c90",
        "colab": {
          "base_uri": "https://localhost:8080/",
          "height": 385
        }
      },
      "source": [
        "rec_songs.recommend_sim_songs()"
      ],
      "execution_count": 373,
      "outputs": [
        {
          "output_type": "stream",
          "text": [
            "👩‍🏫 유사곡을 추천받고 싶은 노래 제목을 알려주세요 ! :  boat\n",
            "\n",
            "🎵 죠지의 Boat 저도 좋아해요 ! 여기 유사한 곡이에요 ! 🍈\n",
            "\n"
          ],
          "name": "stdout"
        },
        {
          "output_type": "display_data",
          "data": {
            "text/html": [
              "<div>\n",
              "<style scoped>\n",
              "    .dataframe tbody tr th:only-of-type {\n",
              "        vertical-align: middle;\n",
              "    }\n",
              "\n",
              "    .dataframe tbody tr th {\n",
              "        vertical-align: top;\n",
              "    }\n",
              "\n",
              "    .dataframe thead th {\n",
              "        text-align: right;\n",
              "    }\n",
              "</style>\n",
              "<table border=\"1\" class=\"dataframe\">\n",
              "  <thead>\n",
              "    <tr style=\"text-align: right;\">\n",
              "      <th></th>\n",
              "      <th>앨범 제목은 !</th>\n",
              "      <th>노래 제목은 !</th>\n",
              "      <th>가수는 누구인가 !</th>\n",
              "    </tr>\n",
              "  </thead>\n",
              "  <tbody>\n",
              "    <tr>\n",
              "      <th>0</th>\n",
              "      <td>Your Dog Loves You</td>\n",
              "      <td>Your Dog Loves You (Feat. Crush)</td>\n",
              "      <td>[Colde (콜드)]</td>\n",
              "    </tr>\n",
              "    <tr>\n",
              "      <th>1</th>\n",
              "      <td>RIDE</td>\n",
              "      <td>RIDE (Feat. THAMA)</td>\n",
              "      <td>[SOLE (쏠)]</td>\n",
              "    </tr>\n",
              "    <tr>\n",
              "      <th>2</th>\n",
              "      <td>cassette</td>\n",
              "      <td>let`s go picnic</td>\n",
              "      <td>[죠지]</td>\n",
              "    </tr>\n",
              "    <tr>\n",
              "      <th>3</th>\n",
              "      <td>KARMA</td>\n",
              "      <td>진심</td>\n",
              "      <td>[jeebanoff (지바노프)]</td>\n",
              "    </tr>\n",
              "    <tr>\n",
              "      <th>4</th>\n",
              "      <td>Sun And Moon</td>\n",
              "      <td>Make Up (Feat. Crush)</td>\n",
              "      <td>[샘김 (Sam Kim)]</td>\n",
              "    </tr>\n",
              "    <tr>\n",
              "      <th>5</th>\n",
              "      <td>HANGANG</td>\n",
              "      <td>한강 (HANGANG)</td>\n",
              "      <td>[Hoody (후디)]</td>\n",
              "    </tr>\n",
              "    <tr>\n",
              "      <th>6</th>\n",
              "      <td>Sunshine</td>\n",
              "      <td>Sunshine (Feat. Crush)</td>\n",
              "      <td>[Hoody (후디)]</td>\n",
              "    </tr>\n",
              "    <tr>\n",
              "      <th>7</th>\n",
              "      <td>boy.</td>\n",
              "      <td>춤</td>\n",
              "      <td>[offonoff (오프온오프)]</td>\n",
              "    </tr>\n",
              "  </tbody>\n",
              "</table>\n",
              "</div>"
            ],
            "text/plain": [
              "             앨범 제목은 !                          노래 제목은 !          가수는 누구인가 !\n",
              "0  Your Dog Loves You  Your Dog Loves You (Feat. Crush)        [Colde (콜드)]\n",
              "1                RIDE                RIDE (Feat. THAMA)          [SOLE (쏠)]\n",
              "2            cassette                   let`s go picnic                [죠지]\n",
              "3               KARMA                                진심  [jeebanoff (지바노프)]\n",
              "4        Sun And Moon             Make Up (Feat. Crush)      [샘김 (Sam Kim)]\n",
              "5             HANGANG                      한강 (HANGANG)        [Hoody (후디)]\n",
              "6            Sunshine            Sunshine (Feat. Crush)        [Hoody (후디)]\n",
              "7                boy.                                 춤  [offonoff (오프온오프)]"
            ]
          },
          "metadata": {
            "tags": []
          }
        },
        {
          "output_type": "stream",
          "text": [
            "\n",
            "🎁 랜덤 추천 ! 멜론에서 들어보아요 ! >  https://www.melon.com/search/song/index.htm?q=Make%20Up%20%28Feat.%20Crush%29\n"
          ],
          "name": "stdout"
        }
      ]
    },
    {
      "cell_type": "code",
      "metadata": {
        "id": "L-WtcAVgg7b7",
        "outputId": "401eb9ba-5d6d-471b-e0b5-7e461a4685dc",
        "colab": {
          "base_uri": "https://localhost:8080/",
          "height": 385
        }
      },
      "source": [
        "rec_songs.recommend_sim_songs()"
      ],
      "execution_count": 382,
      "outputs": [
        {
          "output_type": "stream",
          "text": [
            "👩‍🏫 유사곡을 추천받고 싶은 노래 제목을 알려주세요 ! :  바라봐줘요\n",
            "\n",
            "🎵 죠지의 바라봐줘요 저도 좋아해요 ! 여기 유사한 곡이에요 ! 🍈\n",
            "\n"
          ],
          "name": "stdout"
        },
        {
          "output_type": "display_data",
          "data": {
            "text/html": [
              "<div>\n",
              "<style scoped>\n",
              "    .dataframe tbody tr th:only-of-type {\n",
              "        vertical-align: middle;\n",
              "    }\n",
              "\n",
              "    .dataframe tbody tr th {\n",
              "        vertical-align: top;\n",
              "    }\n",
              "\n",
              "    .dataframe thead th {\n",
              "        text-align: right;\n",
              "    }\n",
              "</style>\n",
              "<table border=\"1\" class=\"dataframe\">\n",
              "  <thead>\n",
              "    <tr style=\"text-align: right;\">\n",
              "      <th></th>\n",
              "      <th>앨범 제목은 !</th>\n",
              "      <th>노래 제목은 !</th>\n",
              "      <th>가수는 누구인가 !</th>\n",
              "    </tr>\n",
              "  </thead>\n",
              "  <tbody>\n",
              "    <tr>\n",
              "      <th>0</th>\n",
              "      <td>너는 어떻게 (Feat. 백예린)</td>\n",
              "      <td>너는 어떻게 (Feat. 백예린)</td>\n",
              "      <td>[구원찬]</td>\n",
              "    </tr>\n",
              "    <tr>\n",
              "      <th>1</th>\n",
              "      <td>너라는 세상</td>\n",
              "      <td>너라는 세상</td>\n",
              "      <td>[스탠딩 에그]</td>\n",
              "    </tr>\n",
              "    <tr>\n",
              "      <th>2</th>\n",
              "      <td>안녕, 나의 우주</td>\n",
              "      <td>우주선</td>\n",
              "      <td>[정승환]</td>\n",
              "    </tr>\n",
              "    <tr>\n",
              "      <th>3</th>\n",
              "      <td>봄이 오는 날에</td>\n",
              "      <td>봄이 오는 날에</td>\n",
              "      <td>[김민석]</td>\n",
              "    </tr>\n",
              "    <tr>\n",
              "      <th>4</th>\n",
              "      <td>Good Night</td>\n",
              "      <td>Good Night</td>\n",
              "      <td>[김민석]</td>\n",
              "    </tr>\n",
              "    <tr>\n",
              "      <th>5</th>\n",
              "      <td>전설</td>\n",
              "      <td>주저하는 연인들을 위해</td>\n",
              "      <td>[잔나비]</td>\n",
              "    </tr>\n",
              "    <tr>\n",
              "      <th>6</th>\n",
              "      <td>Polaris</td>\n",
              "      <td>우리 오늘 만날까</td>\n",
              "      <td>[이민혁]</td>\n",
              "    </tr>\n",
              "    <tr>\n",
              "      <th>7</th>\n",
              "      <td>Illusion</td>\n",
              "      <td>쏟아져, 밤</td>\n",
              "      <td>[40]</td>\n",
              "    </tr>\n",
              "  </tbody>\n",
              "</table>\n",
              "</div>"
            ],
            "text/plain": [
              "             앨범 제목은 !            노래 제목은 ! 가수는 누구인가 !\n",
              "0  너는 어떻게 (Feat. 백예린)  너는 어떻게 (Feat. 백예린)      [구원찬]\n",
              "1              너라는 세상              너라는 세상   [스탠딩 에그]\n",
              "2           안녕, 나의 우주                 우주선      [정승환]\n",
              "3            봄이 오는 날에            봄이 오는 날에      [김민석]\n",
              "4          Good Night          Good Night      [김민석]\n",
              "5                  전설        주저하는 연인들을 위해      [잔나비]\n",
              "6             Polaris           우리 오늘 만날까      [이민혁]\n",
              "7            Illusion              쏟아져, 밤       [40]"
            ]
          },
          "metadata": {
            "tags": []
          }
        },
        {
          "output_type": "stream",
          "text": [
            "\n",
            "🎁 랜덤 추천 ! 멜론에서 들어보아요 ! >  https://www.melon.com/search/song/index.htm?q=%EB%84%88%EB%9D%BC%EB%8A%94%20%EC%84%B8%EC%83%81\n"
          ],
          "name": "stdout"
        }
      ]
    },
    {
      "cell_type": "markdown",
      "metadata": {
        "id": "rECWXSZRgUYu"
      },
      "source": [
        "## **colde의 <없어도 돼>와 유사한 곡을 추천해줘 !**"
      ]
    },
    {
      "cell_type": "code",
      "metadata": {
        "id": "ESll9Yqff2DA",
        "outputId": "bbf25522-73ab-486f-80ef-4f09b1dda3fd",
        "colab": {
          "base_uri": "https://localhost:8080/",
          "height": 385
        }
      },
      "source": [
        "rec_songs.recommend_sim_songs()"
      ],
      "execution_count": 375,
      "outputs": [
        {
          "output_type": "stream",
          "text": [
            "👩‍🏫 유사곡을 추천받고 싶은 노래 제목을 알려주세요 ! :  없어도돼\n",
            "\n",
            "🎵 Colde (콜드)의 없어도 돼 저도 좋아해요 ! 여기 유사한 곡이에요 ! 🍈\n",
            "\n"
          ],
          "name": "stdout"
        },
        {
          "output_type": "display_data",
          "data": {
            "text/html": [
              "<div>\n",
              "<style scoped>\n",
              "    .dataframe tbody tr th:only-of-type {\n",
              "        vertical-align: middle;\n",
              "    }\n",
              "\n",
              "    .dataframe tbody tr th {\n",
              "        vertical-align: top;\n",
              "    }\n",
              "\n",
              "    .dataframe thead th {\n",
              "        text-align: right;\n",
              "    }\n",
              "</style>\n",
              "<table border=\"1\" class=\"dataframe\">\n",
              "  <thead>\n",
              "    <tr style=\"text-align: right;\">\n",
              "      <th></th>\n",
              "      <th>앨범 제목은 !</th>\n",
              "      <th>노래 제목은 !</th>\n",
              "      <th>가수는 누구인가 !</th>\n",
              "    </tr>\n",
              "  </thead>\n",
              "  <tbody>\n",
              "    <tr>\n",
              "      <th>0</th>\n",
              "      <td>하다진</td>\n",
              "      <td>야..난</td>\n",
              "      <td>[리햅 (Rheehab)]</td>\n",
              "    </tr>\n",
              "    <tr>\n",
              "      <th>1</th>\n",
              "      <td>Can I Love ?</td>\n",
              "      <td>Can I Love ? (Feat. 유라(youra), Meego)</td>\n",
              "      <td>[Cosmic Boy]</td>\n",
              "    </tr>\n",
              "    <tr>\n",
              "      <th>2</th>\n",
              "      <td>We (OUI)</td>\n",
              "      <td>We (OUI) (Feat. sogumm)</td>\n",
              "      <td>[jeebanoff (지바노프)]</td>\n",
              "    </tr>\n",
              "    <tr>\n",
              "      <th>3</th>\n",
              "      <td>Dingo X 죠지</td>\n",
              "      <td>camping everywhere</td>\n",
              "      <td>[죠지]</td>\n",
              "    </tr>\n",
              "    <tr>\n",
              "      <th>4</th>\n",
              "      <td>Is You Down</td>\n",
              "      <td>Is You Down (Feat. Minshik &amp; Harms)</td>\n",
              "      <td>[Jimmy Brown (지미 브라운)]</td>\n",
              "    </tr>\n",
              "    <tr>\n",
              "      <th>5</th>\n",
              "      <td>Wave</td>\n",
              "      <td>선 (Feat. 선우정아)</td>\n",
              "      <td>[Colde (콜드)]</td>\n",
              "    </tr>\n",
              "    <tr>\n",
              "      <th>6</th>\n",
              "      <td>X</td>\n",
              "      <td>X</td>\n",
              "      <td>[D.SANGUH (딥상어)]</td>\n",
              "    </tr>\n",
              "    <tr>\n",
              "      <th>7</th>\n",
              "      <td>Love part 1</td>\n",
              "      <td>향</td>\n",
              "      <td>[Colde (콜드)]</td>\n",
              "    </tr>\n",
              "  </tbody>\n",
              "</table>\n",
              "</div>"
            ],
            "text/plain": [
              "       앨범 제목은 !                               노래 제목은 !              가수는 누구인가 !\n",
              "0           하다진                                   야..난          [리햅 (Rheehab)]\n",
              "1  Can I Love ?  Can I Love ? (Feat. 유라(youra), Meego)            [Cosmic Boy]\n",
              "2      We (OUI)                We (OUI) (Feat. sogumm)      [jeebanoff (지바노프)]\n",
              "3    Dingo X 죠지                     camping everywhere                    [죠지]\n",
              "4   Is You Down    Is You Down (Feat. Minshik & Harms)  [Jimmy Brown (지미 브라운)]\n",
              "5          Wave                         선 (Feat. 선우정아)            [Colde (콜드)]\n",
              "6             X                                      X        [D.SANGUH (딥상어)]\n",
              "7   Love part 1                                      향            [Colde (콜드)]"
            ]
          },
          "metadata": {
            "tags": []
          }
        },
        {
          "output_type": "stream",
          "text": [
            "\n",
            "🎁 랜덤 추천 ! 멜론에서 들어보아요 ! >  https://www.melon.com/search/song/index.htm?q=%EC%84%A0%20%28Feat.%20%EC%84%A0%EC%9A%B0%EC%A0%95%EC%95%84%29\n"
          ],
          "name": "stdout"
        }
      ]
    },
    {
      "cell_type": "markdown",
      "metadata": {
        "id": "DqxufjAkgoI2"
      },
      "source": [
        "## **DPR live의 <jasmine>과 유사한 곡 추천해줘 !**"
      ]
    },
    {
      "cell_type": "code",
      "metadata": {
        "id": "rSGLrng-f5Rf",
        "outputId": "2ca25292-fa50-4319-e2a6-914d04936474",
        "colab": {
          "base_uri": "https://localhost:8080/",
          "height": 709
        }
      },
      "source": [
        "rec_songs.recommend_sim_songs()"
      ],
      "execution_count": 386,
      "outputs": [
        {
          "output_type": "stream",
          "text": [
            "👩‍🏫 유사곡을 추천받고 싶은 노래 제목을 알려주세요 ! :  jasmine\n",
            "\n",
            "\t 💛 1 < DPR LIVE > 의 앨범 < Jasmine > 에 담긴 노래 << Jasmine >>\n",
            "\n",
            "\t 💚 2 < DJ soulscape > 의 앨범 < Lovers: > 에 담긴 노래 << Jasmine >>\n",
            "\n",
            "\t 💙 3 < Common Souls > 의 앨범 < Jasmine > 에 담긴 노래 << Jasmine >>\n",
            "\n",
            "\t 💜 4 < DPR LIVE > 의 앨범 < Her > 에 담긴 노래 << Jasmine >>\n",
            "\n",
            "\t 🧡 5 < 피아 (PIA) > 의 앨범 < Waterfalls > 에 담긴 노래 << Jasmine >>\n",
            "\n",
            "\t 💛 6 < Eevee > 의 앨범 < Unexpected > 에 담긴 노래 << Jasmine >>\n",
            "\n",
            "\t 💚 7 < 데이드림 > 의 앨범 < The Best Of Daydream - Sentimental Dream > 에 담긴 노래 << Jasmine >>\n",
            "\n",
            "\t 💙 8 < 레비트 > 의 앨범 < Treble Clef Of Happiness > 에 담긴 노래 << Jasmine >>\n",
            "\n",
            "💁‍♂ 1부터 8까지 중에서 몇 번째 노래인지 골라주세요 ! : 1\n",
            "\n",
            "🎵 DPR LIVE의 Jasmine 저도 좋아해요 ! 여기 유사한 곡이에요 ! 🍈\n",
            "\n"
          ],
          "name": "stdout"
        },
        {
          "output_type": "display_data",
          "data": {
            "text/html": [
              "<div>\n",
              "<style scoped>\n",
              "    .dataframe tbody tr th:only-of-type {\n",
              "        vertical-align: middle;\n",
              "    }\n",
              "\n",
              "    .dataframe tbody tr th {\n",
              "        vertical-align: top;\n",
              "    }\n",
              "\n",
              "    .dataframe thead th {\n",
              "        text-align: right;\n",
              "    }\n",
              "</style>\n",
              "<table border=\"1\" class=\"dataframe\">\n",
              "  <thead>\n",
              "    <tr style=\"text-align: right;\">\n",
              "      <th></th>\n",
              "      <th>앨범 제목은 !</th>\n",
              "      <th>노래 제목은 !</th>\n",
              "      <th>가수는 누구인가 !</th>\n",
              "    </tr>\n",
              "  </thead>\n",
              "  <tbody>\n",
              "    <tr>\n",
              "      <th>0</th>\n",
              "      <td>Her</td>\n",
              "      <td>Martini Blue</td>\n",
              "      <td>[DPR LIVE]</td>\n",
              "    </tr>\n",
              "    <tr>\n",
              "      <th>1</th>\n",
              "      <td>Her</td>\n",
              "      <td>Text Me</td>\n",
              "      <td>[DPR LIVE]</td>\n",
              "    </tr>\n",
              "    <tr>\n",
              "      <th>2</th>\n",
              "      <td>boy.</td>\n",
              "      <td>gold (Feat. Dean)</td>\n",
              "      <td>[offonoff (오프온오프)]</td>\n",
              "    </tr>\n",
              "    <tr>\n",
              "      <th>3</th>\n",
              "      <td>Coming To You Live</td>\n",
              "      <td>Laputa (Feat. Crush)</td>\n",
              "      <td>[DPR LIVE]</td>\n",
              "    </tr>\n",
              "    <tr>\n",
              "      <th>4</th>\n",
              "      <td>Action!</td>\n",
              "      <td>Action! (Feat. GRAY)</td>\n",
              "      <td>[DPR LIVE]</td>\n",
              "    </tr>\n",
              "    <tr>\n",
              "      <th>5</th>\n",
              "      <td>H.A.L.F (Have.A.Little.Fun)</td>\n",
              "      <td>party (SHUT DOWN) (Feat. 크러쉬)</td>\n",
              "      <td>[식케이 (Sik-K)]</td>\n",
              "    </tr>\n",
              "    <tr>\n",
              "      <th>6</th>\n",
              "      <td>EVERYWHERE</td>\n",
              "      <td>Sunday (Feat. 헤이즈, 박재범)</td>\n",
              "      <td>[그루비룸 (GroovyRoom)]</td>\n",
              "    </tr>\n",
              "    <tr>\n",
              "      <th>7</th>\n",
              "      <td>Her</td>\n",
              "      <td>Is You Down</td>\n",
              "      <td>[DPR LIVE]</td>\n",
              "    </tr>\n",
              "  </tbody>\n",
              "</table>\n",
              "</div>"
            ],
            "text/plain": [
              "                      앨범 제목은 !  ...           가수는 누구인가 !\n",
              "0                          Her  ...           [DPR LIVE]\n",
              "1                          Her  ...           [DPR LIVE]\n",
              "2                         boy.  ...   [offonoff (오프온오프)]\n",
              "3           Coming To You Live  ...           [DPR LIVE]\n",
              "4                      Action!  ...           [DPR LIVE]\n",
              "5  H.A.L.F (Have.A.Little.Fun)  ...        [식케이 (Sik-K)]\n",
              "6                   EVERYWHERE  ...  [그루비룸 (GroovyRoom)]\n",
              "7                          Her  ...           [DPR LIVE]\n",
              "\n",
              "[8 rows x 3 columns]"
            ]
          },
          "metadata": {
            "tags": []
          }
        },
        {
          "output_type": "stream",
          "text": [
            "\n",
            "🎁 랜덤 추천 ! 멜론에서 들어보아요 ! >  https://www.melon.com/search/song/index.htm?q=party%20%28SHUT%20DOWN%29%20%28Feat.%20%ED%81%AC%EB%9F%AC%EC%89%AC%29\n"
          ],
          "name": "stdout"
        }
      ]
    },
    {
      "cell_type": "code",
      "metadata": {
        "id": "Myl_U17igaEm"
      },
      "source": [
        ""
      ],
      "execution_count": null,
      "outputs": []
    }
  ]
}